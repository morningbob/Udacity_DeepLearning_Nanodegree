{
 "cells": [
  {
   "cell_type": "code",
   "execution_count": 1,
   "metadata": {},
   "outputs": [
    {
     "name": "stdout",
     "output_type": "stream",
     "text": [
      "lfw.tgz\n"
     ]
    },
    {
     "data": {
      "text/plain": [
       "\"\\ntry:\\n\\n    extract(sys.argv[1] + '.tgz')\\n    print('Done.')\\nexcept:\\n    name = os.path.basename(sys.argv[0])\\n    print(name[:name.rfind('.')], '<filename>')\\n\""
      ]
     },
     "execution_count": 1,
     "metadata": {},
     "output_type": "execute_result"
    }
   ],
   "source": [
    "import os, sys, tarfile\n",
    "\n",
    "def extract(tar_url, extract_path='.'):\n",
    "    print(tar_url)\n",
    "    tar = tarfile.open(tar_url, 'r')\n",
    "    for item in tar:\n",
    "        tar.extract(item, extract_path)\n",
    "        if item.name.find(\".tgz\") != -1 or item.name.find(\".tar\") != -1:\n",
    "            extract(item.name, \"./\" + item.name[:item.name.rfind('/')])\n",
    "\n",
    "tar_url = \"lfw.tgz\"\n",
    "extract(tar_url)\n",
    "            \n",
    "'''\n",
    "try:\n",
    "\n",
    "    extract(sys.argv[1] + '.tgz')\n",
    "    print('Done.')\n",
    "except:\n",
    "    name = os.path.basename(sys.argv[0])\n",
    "    print(name[:name.rfind('.')], '<filename>')\n",
    "'''\n"
   ]
  }
 ],
 "metadata": {
  "kernelspec": {
   "display_name": "Python [conda env:python3]",
   "language": "python",
   "name": "conda-env-python3-py"
  },
  "language_info": {
   "codemirror_mode": {
    "name": "ipython",
    "version": 3
   },
   "file_extension": ".py",
   "mimetype": "text/x-python",
   "name": "python",
   "nbconvert_exporter": "python",
   "pygments_lexer": "ipython3",
   "version": "3.6.5"
  }
 },
 "nbformat": 4,
 "nbformat_minor": 2
}
